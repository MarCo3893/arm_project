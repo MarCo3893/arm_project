{
 "cells": [
  {
   "cell_type": "markdown",
   "metadata": {},
   "source": [
    "# eHorses"
   ]
  },
  {
   "cell_type": "markdown",
   "metadata": {},
   "source": [
    "## Libraries and settings"
   ]
  },
  {
   "cell_type": "code",
   "execution_count": 146,
   "metadata": {},
   "outputs": [
    {
     "name": "stdout",
     "output_type": "stream",
     "text": [
      "/workspaces/arm_project\n"
     ]
    }
   ],
   "source": [
    "# Libraries\n",
    "import os\n",
    "import sqlite3\n",
    "import fnmatch\n",
    "import numpy as np\n",
    "import pandas as pd\n",
    "import matplotlib.pyplot as plt\n",
    "import re\n",
    "from sklearn.ensemble import RandomForestRegressor\n",
    "from sklearn.model_selection import train_test_split\n",
    "from sklearn.preprocessing import LabelEncoder\n",
    "from sklearn.metrics import r2_score\n",
    "\n",
    "# Ignore warnings\n",
    "import warnings\n",
    "warnings.filterwarnings(\"ignore\")\n",
    "\n",
    "# Function to close a sqlite db-connection\n",
    "def check_conn(conn):\n",
    "     try:\n",
    "        conn.cursor()\n",
    "        return True\n",
    "     except Exception as ex:\n",
    "        return False\n",
    "\n",
    "# Get current working directory\n",
    "print(os.getcwd())"
   ]
  },
  {
   "cell_type": "markdown",
   "metadata": {},
   "source": [
    "## Import data"
   ]
  },
  {
   "cell_type": "code",
   "execution_count": 147,
   "metadata": {},
   "outputs": [
    {
     "data": {
      "text/html": [
       "<div>\n",
       "<style scoped>\n",
       "    .dataframe tbody tr th:only-of-type {\n",
       "        vertical-align: middle;\n",
       "    }\n",
       "\n",
       "    .dataframe tbody tr th {\n",
       "        vertical-align: top;\n",
       "    }\n",
       "\n",
       "    .dataframe thead th {\n",
       "        text-align: right;\n",
       "    }\n",
       "</style>\n",
       "<table border=\"1\" class=\"dataframe\">\n",
       "  <thead>\n",
       "    <tr style=\"text-align: right;\">\n",
       "      <th></th>\n",
       "      <th>web-scraper-order</th>\n",
       "      <th>web-scraper-start-url</th>\n",
       "      <th>Price_raw</th>\n",
       "      <th>City_raw</th>\n",
       "      <th>Discipline_raw</th>\n",
       "      <th>Title_raw</th>\n",
       "      <th>Description_raw</th>\n",
       "    </tr>\n",
       "  </thead>\n",
       "  <tbody>\n",
       "    <tr>\n",
       "      <th>0</th>\n",
       "      <td>1733932050-1</td>\n",
       "      <td>https://www.ehorses.de/search?dum=dum&amp;land=4?p...</td>\n",
       "      <td>40,000 € bis 70,000 €</td>\n",
       "      <td>Sint-Martens-Lennik</td>\n",
       "      <td>Springen</td>\n",
       "      <td>NaN</td>\n",
       "      <td>Holsteiner, Wallach, 7 Jahre, 169 cm, Schwarzb...</td>\n",
       "    </tr>\n",
       "    <tr>\n",
       "      <th>1</th>\n",
       "      <td>1733932050-2</td>\n",
       "      <td>https://www.ehorses.de/search?dum=dum&amp;land=4?p...</td>\n",
       "      <td>15,000 €</td>\n",
       "      <td>Meerhout</td>\n",
       "      <td>Dressur</td>\n",
       "      <td>NaN</td>\n",
       "      <td>Belgisches Warmblut, Stute, 5 Jahre, 174 cm, R...</td>\n",
       "    </tr>\n",
       "    <tr>\n",
       "      <th>2</th>\n",
       "      <td>1733932050-3</td>\n",
       "      <td>https://www.ehorses.de/search?dum=dum&amp;land=4?p...</td>\n",
       "      <td>20,000 € bis 40,000 €</td>\n",
       "      <td>Pulheim</td>\n",
       "      <td>Dressur - Zucht - Springen - Freizeit\\n       ...</td>\n",
       "      <td>Vielversprechender gekörter Hengst von Fusionist</td>\n",
       "      <td>Hannoveraner, Hengst, 4 Jahre, 168 cm, Brauner</td>\n",
       "    </tr>\n",
       "    <tr>\n",
       "      <th>3</th>\n",
       "      <td>1733932050-4</td>\n",
       "      <td>https://www.ehorses.de/search?dum=dum&amp;land=4?p...</td>\n",
       "      <td>7,900 €</td>\n",
       "      <td>Pedralba</td>\n",
       "      <td>Dressur - Working Equitation - Barock - Vielse...</td>\n",
       "      <td>NaN</td>\n",
       "      <td>PRE, Hengst, 3 Jahre, 165 cm, Apfelschimmel</td>\n",
       "    </tr>\n",
       "    <tr>\n",
       "      <th>4</th>\n",
       "      <td>1733932050-5</td>\n",
       "      <td>https://www.ehorses.de/search?dum=dum&amp;land=4?p...</td>\n",
       "      <td>30,000 €</td>\n",
       "      <td>Coruche</td>\n",
       "      <td>Dressur - Schau - Barock - Zucht\\n            ...</td>\n",
       "      <td>NaN</td>\n",
       "      <td>Lusitanos, Hengst, 4 Jahre, 161 cm, Schimmel</td>\n",
       "    </tr>\n",
       "  </tbody>\n",
       "</table>\n",
       "</div>"
      ],
      "text/plain": [
       "  web-scraper-order                              web-scraper-start-url  \\\n",
       "0      1733932050-1  https://www.ehorses.de/search?dum=dum&land=4?p...   \n",
       "1      1733932050-2  https://www.ehorses.de/search?dum=dum&land=4?p...   \n",
       "2      1733932050-3  https://www.ehorses.de/search?dum=dum&land=4?p...   \n",
       "3      1733932050-4  https://www.ehorses.de/search?dum=dum&land=4?p...   \n",
       "4      1733932050-5  https://www.ehorses.de/search?dum=dum&land=4?p...   \n",
       "\n",
       "               Price_raw             City_raw  \\\n",
       "0  40,000 € bis 70,000 €  Sint-Martens-Lennik   \n",
       "1               15,000 €             Meerhout   \n",
       "2  20,000 € bis 40,000 €              Pulheim   \n",
       "3                7,900 €             Pedralba   \n",
       "4               30,000 €              Coruche   \n",
       "\n",
       "                                      Discipline_raw  \\\n",
       "0                                           Springen   \n",
       "1                                            Dressur   \n",
       "2  Dressur - Zucht - Springen - Freizeit\\n       ...   \n",
       "3  Dressur - Working Equitation - Barock - Vielse...   \n",
       "4  Dressur - Schau - Barock - Zucht\\n            ...   \n",
       "\n",
       "                                          Title_raw  \\\n",
       "0                                               NaN   \n",
       "1                                               NaN   \n",
       "2  Vielversprechender gekörter Hengst von Fusionist   \n",
       "3                                               NaN   \n",
       "4                                               NaN   \n",
       "\n",
       "                                     Description_raw  \n",
       "0  Holsteiner, Wallach, 7 Jahre, 169 cm, Schwarzb...  \n",
       "1  Belgisches Warmblut, Stute, 5 Jahre, 174 cm, R...  \n",
       "2     Hannoveraner, Hengst, 4 Jahre, 168 cm, Brauner  \n",
       "3        PRE, Hengst, 3 Jahre, 165 cm, Apfelschimmel  \n",
       "4       Lusitanos, Hengst, 4 Jahre, 161 cm, Schimmel  "
      ]
     },
     "execution_count": 147,
     "metadata": {},
     "output_type": "execute_result"
    }
   ],
   "source": [
    "## Read data\n",
    "df = pd.read_csv(\"./data/eHorses_2.csv\", sep=\",\")\n",
    "df.head()"
   ]
  },
  {
   "cell_type": "markdown",
   "metadata": {},
   "source": [
    "## Create new variables"
   ]
  },
  {
   "cell_type": "markdown",
   "metadata": {},
   "source": [
    "### Extract breed"
   ]
  },
  {
   "cell_type": "code",
   "execution_count": 148,
   "metadata": {},
   "outputs": [
    {
     "name": "stdout",
     "output_type": "stream",
     "text": [
      "0    Holsteiner, Wallach, 7 Jahre, 169 cm, Schwarzb...\n",
      "1    Belgisches Warmblut, Stute, 5 Jahre, 174 cm, R...\n",
      "2       Hannoveraner, Hengst, 4 Jahre, 168 cm, Brauner\n",
      "3          PRE, Hengst, 3 Jahre, 165 cm, Apfelschimmel\n",
      "4         Lusitanos, Hengst, 4 Jahre, 161 cm, Schimmel\n",
      "Name: Description_raw, dtype: object \n",
      "\n",
      "0             Holsteiner\n",
      "1    Belgisches Warmblut\n",
      "2           Hannoveraner\n",
      "3                    PRE\n",
      "4              Lusitanos\n",
      "Name: breed, dtype: string\n"
     ]
    }
   ],
   "source": [
    "# Extract breed from 'description_raw' strings\n",
    "breed = []\n",
    "for i in df['Description_raw']:\n",
    "    d1 = i.split(',')[0].strip()\n",
    "    breed.append(d1)\n",
    "\n",
    "# Save as new variable in the pandas data frame\n",
    "df['breed'] = pd.Series(breed, dtype=\"string\")\n",
    "\n",
    "# Print first 5 values\n",
    "print(df['Description_raw'].head(5), '\\n')\n",
    "print(df['breed'].head(5))"
   ]
  },
  {
   "cell_type": "markdown",
   "metadata": {},
   "source": [
    "### Extract sex"
   ]
  },
  {
   "cell_type": "code",
   "execution_count": 149,
   "metadata": {},
   "outputs": [
    {
     "name": "stdout",
     "output_type": "stream",
     "text": [
      "0    Holsteiner, Wallach, 7 Jahre, 169 cm, Schwarzb...\n",
      "1    Belgisches Warmblut, Stute, 5 Jahre, 174 cm, R...\n",
      "2       Hannoveraner, Hengst, 4 Jahre, 168 cm, Brauner\n",
      "3          PRE, Hengst, 3 Jahre, 165 cm, Apfelschimmel\n",
      "4         Lusitanos, Hengst, 4 Jahre, 161 cm, Schimmel\n",
      "Name: Description_raw, dtype: object \n",
      "\n",
      "0    Wallach\n",
      "1      Stute\n",
      "2     Hengst\n",
      "3     Hengst\n",
      "4     Hengst\n",
      "Name: sex, dtype: string\n"
     ]
    }
   ],
   "source": [
    "# Extract sex from 'description_raw' strings\n",
    "sex = []\n",
    "for i in df['Description_raw']:\n",
    "    parts = i.split(',')\n",
    "    if len(parts) > 1:\n",
    "        sex.append(parts[1].strip())\n",
    "    else:\n",
    "        sex.append(None)\n",
    "\n",
    "# Save as new variable in the pandas data frame\n",
    "df['sex'] = pd.Series(sex, dtype=\"string\")\n",
    "\n",
    "# Print first 5 values\n",
    "print(df['Description_raw'].head(5), '\\n')\n",
    "print(df['sex'].head(5))"
   ]
  },
  {
   "cell_type": "markdown",
   "metadata": {},
   "source": [
    "### Extract age"
   ]
  },
  {
   "cell_type": "code",
   "execution_count": 150,
   "metadata": {},
   "outputs": [
    {
     "name": "stdout",
     "output_type": "stream",
     "text": [
      "0    Holsteiner, Wallach, 7 Jahre, 169 cm, Schwarzb...\n",
      "1    Belgisches Warmblut, Stute, 5 Jahre, 174 cm, R...\n",
      "2       Hannoveraner, Hengst, 4 Jahre, 168 cm, Brauner\n",
      "3          PRE, Hengst, 3 Jahre, 165 cm, Apfelschimmel\n",
      "4         Lusitanos, Hengst, 4 Jahre, 161 cm, Schimmel\n",
      "Name: Description_raw, dtype: object \n",
      "\n",
      "0    7.0\n",
      "1    5.0\n",
      "2    4.0\n",
      "3    3.0\n",
      "4    4.0\n",
      "Name: age, dtype: float64\n"
     ]
    }
   ],
   "source": [
    "# Extract age from 'Description_raw' strings\n",
    "age = []\n",
    "for i in df['Description_raw']:\n",
    "    parts = i.split(',')\n",
    "    if len(parts) > 2:\n",
    "        age_parts = parts[2].strip().split()\n",
    "        if age_parts:  # Check if age_parts is not empty\n",
    "            age_str = age_parts[0]\n",
    "            age.append(float(age_str))\n",
    "        else:\n",
    "            age.append(None)\n",
    "    else:\n",
    "        age.append(None)\n",
    "\n",
    "# Save as new variable in the pandas data frame\n",
    "df['age'] = pd.Series(age, dtype=\"float\")\n",
    "\n",
    "# Print first 5 values\n",
    "print(df['Description_raw'].head(5), '\\n')\n",
    "print(df['age'].head(5))"
   ]
  },
  {
   "cell_type": "markdown",
   "metadata": {},
   "source": [
    "### Extract height in cm"
   ]
  },
  {
   "cell_type": "code",
   "execution_count": 151,
   "metadata": {},
   "outputs": [
    {
     "name": "stdout",
     "output_type": "stream",
     "text": [
      "0    Holsteiner, Wallach, 7 Jahre, 169 cm, Schwarzb...\n",
      "1    Belgisches Warmblut, Stute, 5 Jahre, 174 cm, R...\n",
      "2       Hannoveraner, Hengst, 4 Jahre, 168 cm, Brauner\n",
      "3          PRE, Hengst, 3 Jahre, 165 cm, Apfelschimmel\n",
      "4         Lusitanos, Hengst, 4 Jahre, 161 cm, Schimmel\n",
      "Name: Description_raw, dtype: object \n",
      "\n",
      "0    169.0\n",
      "1    174.0\n",
      "2    168.0\n",
      "3    165.0\n",
      "4    161.0\n",
      "Name: height, dtype: float64\n"
     ]
    }
   ],
   "source": [
    "# Extract height from 'Description_raw' strings\n",
    "height = []\n",
    "for i in df['Description_raw']:\n",
    "    parts = i.split(',')\n",
    "    height_found = False\n",
    "    for part in parts:\n",
    "        match = re.search(r'(\\d+)\\s*cm', part.strip())\n",
    "        if match:\n",
    "            height.append(float(match.group(1)))\n",
    "            height_found = True\n",
    "            break\n",
    "    if not height_found:\n",
    "        height.append(None)\n",
    "\n",
    "# Save as new variable in the pandas data frame\n",
    "df['height'] = pd.Series(height, dtype=\"float\")\n",
    "\n",
    "# Print first 5 values\n",
    "print(df['Description_raw'].head(5), '\\n')\n",
    "print(df['height'].head(5))"
   ]
  },
  {
   "cell_type": "markdown",
   "metadata": {},
   "source": [
    "### Extract colour"
   ]
  },
  {
   "cell_type": "code",
   "execution_count": 152,
   "metadata": {},
   "outputs": [
    {
     "name": "stdout",
     "output_type": "stream",
     "text": [
      "0    Holsteiner, Wallach, 7 Jahre, 169 cm, Schwarzb...\n",
      "1    Belgisches Warmblut, Stute, 5 Jahre, 174 cm, R...\n",
      "2       Hannoveraner, Hengst, 4 Jahre, 168 cm, Brauner\n",
      "3          PRE, Hengst, 3 Jahre, 165 cm, Apfelschimmel\n",
      "4         Lusitanos, Hengst, 4 Jahre, 161 cm, Schimmel\n",
      "Name: Description_raw, dtype: object \n",
      "\n",
      "0    Schwarzbrauner\n",
      "1             Rappe\n",
      "2           Brauner\n",
      "3     Apfelschimmel\n",
      "4          Schimmel\n",
      "Name: colour, dtype: string\n"
     ]
    }
   ],
   "source": [
    "# Extract colour from 'Description_raw' strings\n",
    "colour = []\n",
    "for i in df['Description_raw']:\n",
    "    parts = i.split(',')\n",
    "    if len(parts) > 4:\n",
    "        colour.append(parts[4].strip())\n",
    "    else:\n",
    "        colour.append(None)\n",
    "\n",
    "# Save as new variable in the pandas data frame\n",
    "df['colour'] = pd.Series(colour, dtype=\"string\")\n",
    "\n",
    "# Print first 5 values\n",
    "print(df['Description_raw'].head(5), '\\n')\n",
    "print(df['colour'].head(5))"
   ]
  },
  {
   "cell_type": "markdown",
   "metadata": {},
   "source": [
    "### Extract price"
   ]
  },
  {
   "cell_type": "code",
   "execution_count": 153,
   "metadata": {},
   "outputs": [
    {
     "name": "stdout",
     "output_type": "stream",
     "text": [
      "0    40,000 € bis 70,000 €\n",
      "1                 15,000 €\n",
      "2    20,000 € bis 40,000 €\n",
      "3                  7,900 €\n",
      "4                 30,000 €\n",
      "Name: Price_raw, dtype: object \n",
      "\n",
      "0    55000.0\n",
      "1    15000.0\n",
      "2    30000.0\n",
      "3     7900.0\n",
      "4    30000.0\n",
      "Name: price, dtype: float64\n"
     ]
    }
   ],
   "source": [
    "# Extract price from 'Price_raw' strings\n",
    "price = []\n",
    "for i in df['Price_raw']:\n",
    "    matches = re.findall(r'\\d{1,3}(?:,\\d{3})*', i)\n",
    "    if matches:\n",
    "        prices = [int(price.replace(',', '')) for price in matches]\n",
    "        if len(prices) == 1:\n",
    "            price.append(float(prices[0]))\n",
    "        elif len(prices) == 2:\n",
    "            average_price = sum(prices) / 2\n",
    "            price.append(float(average_price))\n",
    "    else:\n",
    "        price.append(None)\n",
    "\n",
    "# Save as new variable in the pandas data frame\n",
    "df['price'] = pd.Series(price, dtype=\"float\")\n",
    "\n",
    "# Print first 5 values\n",
    "print(df['Price_raw'].head(5), '\\n')\n",
    "print(df['price'].head(5))"
   ]
  },
  {
   "cell_type": "markdown",
   "metadata": {},
   "source": [
    "### Get data types of all variables including the new ones"
   ]
  },
  {
   "cell_type": "code",
   "execution_count": 154,
   "metadata": {},
   "outputs": [
    {
     "data": {
      "text/plain": [
       "web-scraper-order                object\n",
       "web-scraper-start-url            object\n",
       "Price_raw                        object\n",
       "City_raw                         object\n",
       "Discipline_raw                   object\n",
       "Title_raw                        object\n",
       "Description_raw                  object\n",
       "breed                    string[python]\n",
       "sex                      string[python]\n",
       "age                             float64\n",
       "height                          float64\n",
       "colour                   string[python]\n",
       "price                           float64\n",
       "dtype: object"
      ]
     },
     "execution_count": 154,
     "metadata": {},
     "output_type": "execute_result"
    }
   ],
   "source": [
    "df.dtypes"
   ]
  },
  {
   "cell_type": "markdown",
   "metadata": {},
   "source": [
    "## Count, identify and remove missing values"
   ]
  },
  {
   "cell_type": "code",
   "execution_count": 155,
   "metadata": {},
   "outputs": [
    {
     "name": "stdout",
     "output_type": "stream",
     "text": [
      "Count missing values per variable\n",
      "web-scraper-order           0\n",
      "web-scraper-start-url       0\n",
      "Price_raw                   0\n",
      "City_raw                    0\n",
      "Discipline_raw              0\n",
      "Title_raw                2230\n",
      "Description_raw             0\n",
      "breed                       0\n",
      "sex                         0\n",
      "age                       222\n",
      "height                    668\n",
      "colour                    668\n",
      "price                    1457\n",
      "dtype: int64 \n",
      "\n",
      "Identify rows with missing values\n",
      "                       breed      sex   age  height    price\n",
      "0                 Holsteiner  Wallach   7.0   169.0  55000.0\n",
      "1        Belgisches Warmblut    Stute   5.0   174.0  15000.0\n",
      "3                        PRE   Hengst   3.0   165.0   7900.0\n",
      "4                  Lusitanos   Hengst   4.0   161.0  30000.0\n",
      "5            Sonstige Rassen    Stute  12.0   163.0   3450.0\n",
      "...                      ...      ...   ...     ...      ...\n",
      "8905                     PRE   Hengst   3.0   165.0   7900.0\n",
      "8906               Lusitanos   Hengst   4.0   161.0  30000.0\n",
      "8907         Sonstige Rassen    Stute  12.0   163.0   3450.0\n",
      "8918  American Quarter Horse   Hengst   1.0     NaN      NaN\n",
      "8919  American Quarter Horse    Stute   2.0   153.0      NaN\n",
      "\n",
      "[3687 rows x 5 columns] \n",
      "\n"
     ]
    },
    {
     "data": {
      "text/html": [
       "<div>\n",
       "<style scoped>\n",
       "    .dataframe tbody tr th:only-of-type {\n",
       "        vertical-align: middle;\n",
       "    }\n",
       "\n",
       "    .dataframe tbody tr th {\n",
       "        vertical-align: top;\n",
       "    }\n",
       "\n",
       "    .dataframe thead th {\n",
       "        text-align: right;\n",
       "    }\n",
       "</style>\n",
       "<table border=\"1\" class=\"dataframe\">\n",
       "  <thead>\n",
       "    <tr style=\"text-align: right;\">\n",
       "      <th></th>\n",
       "      <th>web-scraper-order</th>\n",
       "      <th>web-scraper-start-url</th>\n",
       "      <th>Price_raw</th>\n",
       "      <th>City_raw</th>\n",
       "      <th>Discipline_raw</th>\n",
       "      <th>Title_raw</th>\n",
       "      <th>Description_raw</th>\n",
       "      <th>breed</th>\n",
       "      <th>sex</th>\n",
       "      <th>age</th>\n",
       "      <th>height</th>\n",
       "      <th>colour</th>\n",
       "      <th>price</th>\n",
       "    </tr>\n",
       "  </thead>\n",
       "  <tbody>\n",
       "    <tr>\n",
       "      <th>2</th>\n",
       "      <td>1733932050-3</td>\n",
       "      <td>https://www.ehorses.de/search?dum=dum&amp;land=4?p...</td>\n",
       "      <td>20,000 € bis 40,000 €</td>\n",
       "      <td>Pulheim</td>\n",
       "      <td>Dressur - Zucht - Springen - Freizeit\\n       ...</td>\n",
       "      <td>Vielversprechender gekörter Hengst von Fusionist</td>\n",
       "      <td>Hannoveraner, Hengst, 4 Jahre, 168 cm, Brauner</td>\n",
       "      <td>Hannoveraner</td>\n",
       "      <td>Hengst</td>\n",
       "      <td>4.0</td>\n",
       "      <td>168.0</td>\n",
       "      <td>Brauner</td>\n",
       "      <td>30000.0</td>\n",
       "    </tr>\n",
       "    <tr>\n",
       "      <th>6</th>\n",
       "      <td>1733932050-7</td>\n",
       "      <td>https://www.ehorses.de/search?dum=dum&amp;land=4?p...</td>\n",
       "      <td>20,000 € bis 40,000 €</td>\n",
       "      <td>Lissabon</td>\n",
       "      <td>Dressur - Working Equitation - Zucht\\n        ...</td>\n",
       "      <td>Grossrahmiger Lusitano mit sehr viel Potential</td>\n",
       "      <td>Lusitanos, Hengst, 3 Jahre, 168 cm, Brauner</td>\n",
       "      <td>Lusitanos</td>\n",
       "      <td>Hengst</td>\n",
       "      <td>3.0</td>\n",
       "      <td>168.0</td>\n",
       "      <td>Brauner</td>\n",
       "      <td>30000.0</td>\n",
       "    </tr>\n",
       "    <tr>\n",
       "      <th>7</th>\n",
       "      <td>1733932050-8</td>\n",
       "      <td>https://www.ehorses.de/search?dum=dum&amp;land=4?p...</td>\n",
       "      <td>10,000 € bis 15,000 €</td>\n",
       "      <td>Cegléd</td>\n",
       "      <td>Dressur</td>\n",
       "      <td>Weihnachten Aktion</td>\n",
       "      <td>Hannoveraner, Wallach, 8 Jahre, 167 cm, Brauner</td>\n",
       "      <td>Hannoveraner</td>\n",
       "      <td>Wallach</td>\n",
       "      <td>8.0</td>\n",
       "      <td>167.0</td>\n",
       "      <td>Brauner</td>\n",
       "      <td>12500.0</td>\n",
       "    </tr>\n",
       "    <tr>\n",
       "      <th>8</th>\n",
       "      <td>1733932050-9</td>\n",
       "      <td>https://www.ehorses.de/search?dum=dum&amp;land=4?p...</td>\n",
       "      <td>15,000 € bis 20,000 €</td>\n",
       "      <td>Cegléd</td>\n",
       "      <td>Springen - Hunter - Dressur</td>\n",
       "      <td>Verkauf eines außergewöhnlichen Sportpferdes</td>\n",
       "      <td>Deutsches Sportpferd, Wallach, 8 Jahre, 168 cm...</td>\n",
       "      <td>Deutsches Sportpferd</td>\n",
       "      <td>Wallach</td>\n",
       "      <td>8.0</td>\n",
       "      <td>168.0</td>\n",
       "      <td>Schimmel</td>\n",
       "      <td>17500.0</td>\n",
       "    </tr>\n",
       "    <tr>\n",
       "      <th>9</th>\n",
       "      <td>1733932050-10</td>\n",
       "      <td>https://www.ehorses.de/search?dum=dum&amp;land=4?p...</td>\n",
       "      <td>10,000 € bis 15,000 €</td>\n",
       "      <td>Cegléd</td>\n",
       "      <td>Dressur</td>\n",
       "      <td>Toll Dressur wallach</td>\n",
       "      <td>KWPN, Wallach, 6 Jahre, 172 cm, Rappe</td>\n",
       "      <td>KWPN</td>\n",
       "      <td>Wallach</td>\n",
       "      <td>6.0</td>\n",
       "      <td>172.0</td>\n",
       "      <td>Rappe</td>\n",
       "      <td>12500.0</td>\n",
       "    </tr>\n",
       "  </tbody>\n",
       "</table>\n",
       "</div>"
      ],
      "text/plain": [
       "  web-scraper-order                              web-scraper-start-url  \\\n",
       "2      1733932050-3  https://www.ehorses.de/search?dum=dum&land=4?p...   \n",
       "6      1733932050-7  https://www.ehorses.de/search?dum=dum&land=4?p...   \n",
       "7      1733932050-8  https://www.ehorses.de/search?dum=dum&land=4?p...   \n",
       "8      1733932050-9  https://www.ehorses.de/search?dum=dum&land=4?p...   \n",
       "9     1733932050-10  https://www.ehorses.de/search?dum=dum&land=4?p...   \n",
       "\n",
       "               Price_raw  City_raw  \\\n",
       "2  20,000 € bis 40,000 €   Pulheim   \n",
       "6  20,000 € bis 40,000 €  Lissabon   \n",
       "7  10,000 € bis 15,000 €    Cegléd   \n",
       "8  15,000 € bis 20,000 €    Cegléd   \n",
       "9  10,000 € bis 15,000 €    Cegléd   \n",
       "\n",
       "                                      Discipline_raw  \\\n",
       "2  Dressur - Zucht - Springen - Freizeit\\n       ...   \n",
       "6  Dressur - Working Equitation - Zucht\\n        ...   \n",
       "7                                            Dressur   \n",
       "8                        Springen - Hunter - Dressur   \n",
       "9                                            Dressur   \n",
       "\n",
       "                                          Title_raw  \\\n",
       "2  Vielversprechender gekörter Hengst von Fusionist   \n",
       "6    Grossrahmiger Lusitano mit sehr viel Potential   \n",
       "7                                Weihnachten Aktion   \n",
       "8      Verkauf eines außergewöhnlichen Sportpferdes   \n",
       "9                              Toll Dressur wallach   \n",
       "\n",
       "                                     Description_raw                 breed  \\\n",
       "2     Hannoveraner, Hengst, 4 Jahre, 168 cm, Brauner          Hannoveraner   \n",
       "6        Lusitanos, Hengst, 3 Jahre, 168 cm, Brauner             Lusitanos   \n",
       "7    Hannoveraner, Wallach, 8 Jahre, 167 cm, Brauner          Hannoveraner   \n",
       "8  Deutsches Sportpferd, Wallach, 8 Jahre, 168 cm...  Deutsches Sportpferd   \n",
       "9              KWPN, Wallach, 6 Jahre, 172 cm, Rappe                  KWPN   \n",
       "\n",
       "       sex  age  height    colour    price  \n",
       "2   Hengst  4.0   168.0   Brauner  30000.0  \n",
       "6   Hengst  3.0   168.0   Brauner  30000.0  \n",
       "7  Wallach  8.0   167.0   Brauner  12500.0  \n",
       "8  Wallach  8.0   168.0  Schimmel  17500.0  \n",
       "9  Wallach  6.0   172.0     Rappe  12500.0  "
      ]
     },
     "execution_count": 155,
     "metadata": {},
     "output_type": "execute_result"
    }
   ],
   "source": [
    "# Count missing values\n",
    "print('Count missing values per variable')\n",
    "print(pd.isna(df).sum(), '\\n')\n",
    "\n",
    "# Identify rows with missing values\n",
    "print('Identify rows with missing values')\n",
    "print(df.loc[df.isna().any(axis=1)][['breed', 'sex', 'age', 'height', 'price']], '\\n')\n",
    "\n",
    "# Drop rows where at least one element is missing, except for 'title_raw'\n",
    "df2 = df.dropna(subset=[col for col in df.columns if col != 'title_raw'])\n",
    "df2.head()"
   ]
  },
  {
   "cell_type": "code",
   "execution_count": 156,
   "metadata": {},
   "outputs": [],
   "source": [
    "# Count missing values\n",
    "#print('Count missing values per variable')\n",
    "#print(pd.isna(df).sum(), '\\n')\n",
    "\n",
    "# Identify rows with missing values\n",
    "#print('Identify rows with missing values')\n",
    "#print(df.loc[df.isna().any(axis=1)][['breed', 'sex', 'age', 'height', 'colour', 'price']], '\\n')\n",
    "\n",
    "# Drop rows where at least one element is missing.\n",
    "#df2 = df.dropna()\n",
    "#df2.head()"
   ]
  },
  {
   "cell_type": "markdown",
   "metadata": {},
   "source": [
    "## Count, identify & remove duplicated values"
   ]
  },
  {
   "cell_type": "code",
   "execution_count": 157,
   "metadata": {},
   "outputs": [
    {
     "name": "stdout",
     "output_type": "stream",
     "text": [
      "Sum of duplicated Description_raw values: 8898 \n",
      "\n",
      "Duplicated values\n",
      "     web-scraper-order                              web-scraper-start-url  \\\n",
      "0         1733932050-1  https://www.ehorses.de/search?dum=dum&land=4?p...   \n",
      "1         1733932050-2  https://www.ehorses.de/search?dum=dum&land=4?p...   \n",
      "2         1733932050-3  https://www.ehorses.de/search?dum=dum&land=4?p...   \n",
      "3         1733932050-4  https://www.ehorses.de/search?dum=dum&land=4?p...   \n",
      "4         1733932050-5  https://www.ehorses.de/search?dum=dum&land=4?p...   \n",
      "...                ...                                                ...   \n",
      "8895   1733933163-8896  https://www.ehorses.de/search?dum=dum&land=4?pn=2   \n",
      "8896   1733933163-8897  https://www.ehorses.de/search?dum=dum&land=4?pn=2   \n",
      "8897   1733933163-8898  https://www.ehorses.de/search?dum=dum&land=4?pn=2   \n",
      "8898   1733933163-8899  https://www.ehorses.de/search?dum=dum&land=4?pn=2   \n",
      "8899   1733933163-8900  https://www.ehorses.de/search?dum=dum&land=4?pn=2   \n",
      "\n",
      "                  Price_raw             City_raw  \\\n",
      "0     40,000 € bis 70,000 €  Sint-Martens-Lennik   \n",
      "1                  15,000 €             Meerhout   \n",
      "2     20,000 € bis 40,000 €              Pulheim   \n",
      "3                   7,900 €             Pedralba   \n",
      "4                  30,000 €              Coruche   \n",
      "...                     ...                  ...   \n",
      "8895             4,300 € VB            Burgstall   \n",
      "8896             4,400 € VB            Burgstall   \n",
      "8897            12,500 € VB              Ehndorf   \n",
      "8898      Preis auf Anfrage              München   \n",
      "8899      Preis auf Anfrage              München   \n",
      "\n",
      "                                         Discipline_raw  \\\n",
      "0                                              Springen   \n",
      "1                                               Dressur   \n",
      "2     Dressur - Zucht - Springen - Freizeit\\n       ...   \n",
      "3     Dressur - Working Equitation - Barock - Vielse...   \n",
      "4     Dressur - Schau - Barock - Zucht\\n            ...   \n",
      "...                                                 ...   \n",
      "8895                        Springen - Schau - Freizeit   \n",
      "8896                        Springen - Schau - Freizeit   \n",
      "8897  Gang\\n                \\n                    \\...   \n",
      "8898  Reining - Western allround - Western - Decken\\...   \n",
      "8899  Western - Western allround - Working Equitatio...   \n",
      "\n",
      "                                              Title_raw  \\\n",
      "0                                                   NaN   \n",
      "1                                                   NaN   \n",
      "2      Vielversprechender gekörter Hengst von Fusionist   \n",
      "3                                                   NaN   \n",
      "4                                                   NaN   \n",
      "...                                                 ...   \n",
      "8895                 Großrahmiger, typvoller Allrounder   \n",
      "8896  Umgänglicher, gut gezogener Deutscher Sportpfe...   \n",
      "8897                     Deutschgezogener 4-Gangwallach   \n",
      "8898       BEAUTIFUL STUD COLT YEARLING BY GUNNATRASHYA   \n",
      "8899     MRS. SMOKEY ! Sie ist der PERFEKTE ALLROUNDER!   \n",
      "\n",
      "                                        Description_raw  \\\n",
      "0     Holsteiner, Wallach, 7 Jahre, 169 cm, Schwarzb...   \n",
      "1     Belgisches Warmblut, Stute, 5 Jahre, 174 cm, R...   \n",
      "2        Hannoveraner, Hengst, 4 Jahre, 168 cm, Brauner   \n",
      "3           PRE, Hengst, 3 Jahre, 165 cm, Apfelschimmel   \n",
      "4          Lusitanos, Hengst, 4 Jahre, 161 cm, Schimmel   \n",
      "...                                                 ...   \n",
      "8895  Deutsches Sportpferd, Hengst, 1 Jahr, 172 cm, ...   \n",
      "8896  Deutsches Sportpferd, Hengst, 1 Jahr, 168 cm, ...   \n",
      "8897  Islandpferd, Wallach, 5 Jahre, 137 cm, Rappsch...   \n",
      "8898      American Quarter Horse, Hengst, 1 Jahr, Fuchs   \n",
      "8899  American Quarter Horse, Stute, 2 Jahre, 153 cm...   \n",
      "\n",
      "                       breed      sex  age  height          colour    price  \n",
      "0                 Holsteiner  Wallach  7.0   169.0  Schwarzbrauner  55000.0  \n",
      "1        Belgisches Warmblut    Stute  5.0   174.0           Rappe  15000.0  \n",
      "2               Hannoveraner   Hengst  4.0   168.0         Brauner  30000.0  \n",
      "3                        PRE   Hengst  3.0   165.0   Apfelschimmel   7900.0  \n",
      "4                  Lusitanos   Hengst  4.0   161.0        Schimmel  30000.0  \n",
      "...                      ...      ...  ...     ...             ...      ...  \n",
      "8895    Deutsches Sportpferd   Hengst  1.0   172.0         Brauner   4300.0  \n",
      "8896    Deutsches Sportpferd   Hengst  1.0   168.0         Brauner   4400.0  \n",
      "8897             Islandpferd  Wallach  5.0   137.0    Rappschimmel  12500.0  \n",
      "8898  American Quarter Horse   Hengst  1.0     NaN            <NA>      NaN  \n",
      "8899  American Quarter Horse    Stute  2.0   153.0         Brauner      NaN  \n",
      "\n",
      "[8898 rows x 13 columns]\n",
      "(22, 13)\n"
     ]
    },
    {
     "data": {
      "text/html": [
       "<div>\n",
       "<style scoped>\n",
       "    .dataframe tbody tr th:only-of-type {\n",
       "        vertical-align: middle;\n",
       "    }\n",
       "\n",
       "    .dataframe tbody tr th {\n",
       "        vertical-align: top;\n",
       "    }\n",
       "\n",
       "    .dataframe thead th {\n",
       "        text-align: right;\n",
       "    }\n",
       "</style>\n",
       "<table border=\"1\" class=\"dataframe\">\n",
       "  <thead>\n",
       "    <tr style=\"text-align: right;\">\n",
       "      <th></th>\n",
       "      <th>web-scraper-order</th>\n",
       "      <th>web-scraper-start-url</th>\n",
       "      <th>Price_raw</th>\n",
       "      <th>City_raw</th>\n",
       "      <th>Discipline_raw</th>\n",
       "      <th>Title_raw</th>\n",
       "      <th>Description_raw</th>\n",
       "      <th>breed</th>\n",
       "      <th>sex</th>\n",
       "      <th>age</th>\n",
       "      <th>height</th>\n",
       "      <th>colour</th>\n",
       "      <th>price</th>\n",
       "    </tr>\n",
       "  </thead>\n",
       "  <tbody>\n",
       "    <tr>\n",
       "      <th>0</th>\n",
       "      <td>1733932050-1</td>\n",
       "      <td>https://www.ehorses.de/search?dum=dum&amp;land=4?p...</td>\n",
       "      <td>40,000 € bis 70,000 €</td>\n",
       "      <td>Sint-Martens-Lennik</td>\n",
       "      <td>Springen</td>\n",
       "      <td>NaN</td>\n",
       "      <td>Holsteiner, Wallach, 7 Jahre, 169 cm, Schwarzb...</td>\n",
       "      <td>Holsteiner</td>\n",
       "      <td>Wallach</td>\n",
       "      <td>7.0</td>\n",
       "      <td>169.0</td>\n",
       "      <td>Schwarzbrauner</td>\n",
       "      <td>55000.0</td>\n",
       "    </tr>\n",
       "    <tr>\n",
       "      <th>1</th>\n",
       "      <td>1733932050-2</td>\n",
       "      <td>https://www.ehorses.de/search?dum=dum&amp;land=4?p...</td>\n",
       "      <td>15,000 €</td>\n",
       "      <td>Meerhout</td>\n",
       "      <td>Dressur</td>\n",
       "      <td>NaN</td>\n",
       "      <td>Belgisches Warmblut, Stute, 5 Jahre, 174 cm, R...</td>\n",
       "      <td>Belgisches Warmblut</td>\n",
       "      <td>Stute</td>\n",
       "      <td>5.0</td>\n",
       "      <td>174.0</td>\n",
       "      <td>Rappe</td>\n",
       "      <td>15000.0</td>\n",
       "    </tr>\n",
       "    <tr>\n",
       "      <th>2</th>\n",
       "      <td>1733932050-3</td>\n",
       "      <td>https://www.ehorses.de/search?dum=dum&amp;land=4?p...</td>\n",
       "      <td>20,000 € bis 40,000 €</td>\n",
       "      <td>Pulheim</td>\n",
       "      <td>Dressur - Zucht - Springen - Freizeit\\n       ...</td>\n",
       "      <td>Vielversprechender gekörter Hengst von Fusionist</td>\n",
       "      <td>Hannoveraner, Hengst, 4 Jahre, 168 cm, Brauner</td>\n",
       "      <td>Hannoveraner</td>\n",
       "      <td>Hengst</td>\n",
       "      <td>4.0</td>\n",
       "      <td>168.0</td>\n",
       "      <td>Brauner</td>\n",
       "      <td>30000.0</td>\n",
       "    </tr>\n",
       "    <tr>\n",
       "      <th>3</th>\n",
       "      <td>1733932050-4</td>\n",
       "      <td>https://www.ehorses.de/search?dum=dum&amp;land=4?p...</td>\n",
       "      <td>7,900 €</td>\n",
       "      <td>Pedralba</td>\n",
       "      <td>Dressur - Working Equitation - Barock - Vielse...</td>\n",
       "      <td>NaN</td>\n",
       "      <td>PRE, Hengst, 3 Jahre, 165 cm, Apfelschimmel</td>\n",
       "      <td>PRE</td>\n",
       "      <td>Hengst</td>\n",
       "      <td>3.0</td>\n",
       "      <td>165.0</td>\n",
       "      <td>Apfelschimmel</td>\n",
       "      <td>7900.0</td>\n",
       "    </tr>\n",
       "    <tr>\n",
       "      <th>4</th>\n",
       "      <td>1733932050-5</td>\n",
       "      <td>https://www.ehorses.de/search?dum=dum&amp;land=4?p...</td>\n",
       "      <td>30,000 €</td>\n",
       "      <td>Coruche</td>\n",
       "      <td>Dressur - Schau - Barock - Zucht\\n            ...</td>\n",
       "      <td>NaN</td>\n",
       "      <td>Lusitanos, Hengst, 4 Jahre, 161 cm, Schimmel</td>\n",
       "      <td>Lusitanos</td>\n",
       "      <td>Hengst</td>\n",
       "      <td>4.0</td>\n",
       "      <td>161.0</td>\n",
       "      <td>Schimmel</td>\n",
       "      <td>30000.0</td>\n",
       "    </tr>\n",
       "  </tbody>\n",
       "</table>\n",
       "</div>"
      ],
      "text/plain": [
       "  web-scraper-order                              web-scraper-start-url  \\\n",
       "0      1733932050-1  https://www.ehorses.de/search?dum=dum&land=4?p...   \n",
       "1      1733932050-2  https://www.ehorses.de/search?dum=dum&land=4?p...   \n",
       "2      1733932050-3  https://www.ehorses.de/search?dum=dum&land=4?p...   \n",
       "3      1733932050-4  https://www.ehorses.de/search?dum=dum&land=4?p...   \n",
       "4      1733932050-5  https://www.ehorses.de/search?dum=dum&land=4?p...   \n",
       "\n",
       "               Price_raw             City_raw  \\\n",
       "0  40,000 € bis 70,000 €  Sint-Martens-Lennik   \n",
       "1               15,000 €             Meerhout   \n",
       "2  20,000 € bis 40,000 €              Pulheim   \n",
       "3                7,900 €             Pedralba   \n",
       "4               30,000 €              Coruche   \n",
       "\n",
       "                                      Discipline_raw  \\\n",
       "0                                           Springen   \n",
       "1                                            Dressur   \n",
       "2  Dressur - Zucht - Springen - Freizeit\\n       ...   \n",
       "3  Dressur - Working Equitation - Barock - Vielse...   \n",
       "4  Dressur - Schau - Barock - Zucht\\n            ...   \n",
       "\n",
       "                                          Title_raw  \\\n",
       "0                                               NaN   \n",
       "1                                               NaN   \n",
       "2  Vielversprechender gekörter Hengst von Fusionist   \n",
       "3                                               NaN   \n",
       "4                                               NaN   \n",
       "\n",
       "                                     Description_raw                breed  \\\n",
       "0  Holsteiner, Wallach, 7 Jahre, 169 cm, Schwarzb...           Holsteiner   \n",
       "1  Belgisches Warmblut, Stute, 5 Jahre, 174 cm, R...  Belgisches Warmblut   \n",
       "2     Hannoveraner, Hengst, 4 Jahre, 168 cm, Brauner         Hannoveraner   \n",
       "3        PRE, Hengst, 3 Jahre, 165 cm, Apfelschimmel                  PRE   \n",
       "4       Lusitanos, Hengst, 4 Jahre, 161 cm, Schimmel            Lusitanos   \n",
       "\n",
       "       sex  age  height          colour    price  \n",
       "0  Wallach  7.0   169.0  Schwarzbrauner  55000.0  \n",
       "1    Stute  5.0   174.0           Rappe  15000.0  \n",
       "2   Hengst  4.0   168.0         Brauner  30000.0  \n",
       "3   Hengst  3.0   165.0   Apfelschimmel   7900.0  \n",
       "4   Hengst  4.0   161.0        Schimmel  30000.0  "
      ]
     },
     "execution_count": 157,
     "metadata": {},
     "output_type": "execute_result"
    }
   ],
   "source": [
    "# Count duplicated values in the 'Description_raw' column\n",
    "print('Sum of duplicated Description_raw values:', df['Description_raw'].duplicated().sum(), '\\n')\n",
    "\n",
    "# Identify duplicated values in the 'Description_raw' column\n",
    "print('Duplicated values')\n",
    "print(df.loc[df['Description_raw'].duplicated(keep='last')])\n",
    "\n",
    "# Drop rows with duplicated 'Description_raw' values\n",
    "df3 = df.drop_duplicates(subset=['Description_raw'])\n",
    "\n",
    "# Print the shape of the dataframe to confirm the duplicates are removed\n",
    "print(df3.shape)\n",
    "\n",
    "# Display the first few rows of the dataframe\n",
    "df3.head()"
   ]
  },
  {
   "cell_type": "markdown",
   "metadata": {},
   "source": [
    "### Save data to file"
   ]
  },
  {
   "cell_type": "code",
   "execution_count": 158,
   "metadata": {},
   "outputs": [],
   "source": [
    "df3.to_csv('./data/eHorses_2_prepared.csv', \n",
    "           sep=\",\", \n",
    "           encoding='utf-8', \n",
    "           index=False)"
   ]
  },
  {
   "cell_type": "markdown",
   "metadata": {},
   "source": [
    "# Exploratory data analysis (EDA) of apartments data"
   ]
  },
  {
   "cell_type": "markdown",
   "metadata": {},
   "source": [
    "## Create sqlite data base"
   ]
  },
  {
   "cell_type": "code",
   "execution_count": 159,
   "metadata": {},
   "outputs": [],
   "source": [
    "# Create data base\n",
    "conn = sqlite3.connect('./data/eHorses_2_prepared.db') \n",
    "\n",
    "# Create cursor object to execute SQL commands\n",
    "cursor = conn.cursor()\n",
    "\n",
    "# Show dbs in the directory\n",
    "flist = fnmatch.filter(os.listdir('.'), '*.db')\n",
    "for i in flist:\n",
    "    print(i)"
   ]
  },
  {
   "cell_type": "markdown",
   "metadata": {},
   "source": [
    "## Create SQL-table in the database"
   ]
  },
  {
   "cell_type": "code",
   "execution_count": 160,
   "metadata": {},
   "outputs": [],
   "source": [
    "cursor.execute('''CREATE TABLE IF NOT EXISTS horses_table (\n",
    "                    OrderId VARCHAR(50),\n",
    "                    StartUrl VARCHAR(200),\n",
    "                    PriceRaw VARCHAR(50),\n",
    "                    City VARCHAR(100),\n",
    "                    Discipline VARCHAR(200),\n",
    "                    Title VARCHAR(200),\n",
    "                    Description VARCHAR(500),\n",
    "                    Breed VARCHAR(100),\n",
    "                    Sex VARCHAR(50),\n",
    "                    Age DECIMAL(8,2),\n",
    "                    Height DECIMAL(8,2),\n",
    "                    Colour VARCHAR(50),\n",
    "                    Price DECIMAL(8,2))''')\n",
    "\n",
    "# Confirm changes to the table\n",
    "conn.commit()"
   ]
  },
  {
   "cell_type": "markdown",
   "metadata": {},
   "source": [
    "## Read data from file to data frame"
   ]
  },
  {
   "cell_type": "code",
   "execution_count": 161,
   "metadata": {},
   "outputs": [
    {
     "name": "stdout",
     "output_type": "stream",
     "text": [
      "(22, 8)\n"
     ]
    },
    {
     "data": {
      "text/html": [
       "<div>\n",
       "<style scoped>\n",
       "    .dataframe tbody tr th:only-of-type {\n",
       "        vertical-align: middle;\n",
       "    }\n",
       "\n",
       "    .dataframe tbody tr th {\n",
       "        vertical-align: top;\n",
       "    }\n",
       "\n",
       "    .dataframe thead th {\n",
       "        text-align: right;\n",
       "    }\n",
       "</style>\n",
       "<table border=\"1\" class=\"dataframe\">\n",
       "  <thead>\n",
       "    <tr style=\"text-align: right;\">\n",
       "      <th></th>\n",
       "      <th>web-scraper-order</th>\n",
       "      <th>City_raw</th>\n",
       "      <th>breed</th>\n",
       "      <th>sex</th>\n",
       "      <th>age</th>\n",
       "      <th>height</th>\n",
       "      <th>colour</th>\n",
       "      <th>price</th>\n",
       "    </tr>\n",
       "  </thead>\n",
       "  <tbody>\n",
       "    <tr>\n",
       "      <th>0</th>\n",
       "      <td>1733932050-1</td>\n",
       "      <td>Sint-Martens-Lennik</td>\n",
       "      <td>Holsteiner</td>\n",
       "      <td>Wallach</td>\n",
       "      <td>7.0</td>\n",
       "      <td>169.0</td>\n",
       "      <td>Schwarzbrauner</td>\n",
       "      <td>55000.0</td>\n",
       "    </tr>\n",
       "    <tr>\n",
       "      <th>1</th>\n",
       "      <td>1733932050-2</td>\n",
       "      <td>Meerhout</td>\n",
       "      <td>Belgisches Warmblut</td>\n",
       "      <td>Stute</td>\n",
       "      <td>5.0</td>\n",
       "      <td>174.0</td>\n",
       "      <td>Rappe</td>\n",
       "      <td>15000.0</td>\n",
       "    </tr>\n",
       "    <tr>\n",
       "      <th>2</th>\n",
       "      <td>1733932050-3</td>\n",
       "      <td>Pulheim</td>\n",
       "      <td>Hannoveraner</td>\n",
       "      <td>Hengst</td>\n",
       "      <td>4.0</td>\n",
       "      <td>168.0</td>\n",
       "      <td>Brauner</td>\n",
       "      <td>30000.0</td>\n",
       "    </tr>\n",
       "    <tr>\n",
       "      <th>3</th>\n",
       "      <td>1733932050-4</td>\n",
       "      <td>Pedralba</td>\n",
       "      <td>PRE</td>\n",
       "      <td>Hengst</td>\n",
       "      <td>3.0</td>\n",
       "      <td>165.0</td>\n",
       "      <td>Apfelschimmel</td>\n",
       "      <td>7900.0</td>\n",
       "    </tr>\n",
       "    <tr>\n",
       "      <th>4</th>\n",
       "      <td>1733932050-5</td>\n",
       "      <td>Coruche</td>\n",
       "      <td>Lusitanos</td>\n",
       "      <td>Hengst</td>\n",
       "      <td>4.0</td>\n",
       "      <td>161.0</td>\n",
       "      <td>Schimmel</td>\n",
       "      <td>30000.0</td>\n",
       "    </tr>\n",
       "    <tr>\n",
       "      <th>5</th>\n",
       "      <td>1733932050-6</td>\n",
       "      <td>Achtmaal</td>\n",
       "      <td>Sonstige Rassen</td>\n",
       "      <td>Stute</td>\n",
       "      <td>12.0</td>\n",
       "      <td>163.0</td>\n",
       "      <td>Fuchs</td>\n",
       "      <td>3450.0</td>\n",
       "    </tr>\n",
       "    <tr>\n",
       "      <th>6</th>\n",
       "      <td>1733932050-7</td>\n",
       "      <td>Lissabon</td>\n",
       "      <td>Lusitanos</td>\n",
       "      <td>Hengst</td>\n",
       "      <td>3.0</td>\n",
       "      <td>168.0</td>\n",
       "      <td>Brauner</td>\n",
       "      <td>30000.0</td>\n",
       "    </tr>\n",
       "    <tr>\n",
       "      <th>7</th>\n",
       "      <td>1733932050-8</td>\n",
       "      <td>Cegléd</td>\n",
       "      <td>Hannoveraner</td>\n",
       "      <td>Wallach</td>\n",
       "      <td>8.0</td>\n",
       "      <td>167.0</td>\n",
       "      <td>Brauner</td>\n",
       "      <td>12500.0</td>\n",
       "    </tr>\n",
       "    <tr>\n",
       "      <th>8</th>\n",
       "      <td>1733932050-9</td>\n",
       "      <td>Cegléd</td>\n",
       "      <td>Deutsches Sportpferd</td>\n",
       "      <td>Wallach</td>\n",
       "      <td>8.0</td>\n",
       "      <td>168.0</td>\n",
       "      <td>Schimmel</td>\n",
       "      <td>17500.0</td>\n",
       "    </tr>\n",
       "    <tr>\n",
       "      <th>9</th>\n",
       "      <td>1733932050-10</td>\n",
       "      <td>Cegléd</td>\n",
       "      <td>KWPN</td>\n",
       "      <td>Wallach</td>\n",
       "      <td>6.0</td>\n",
       "      <td>172.0</td>\n",
       "      <td>Rappe</td>\n",
       "      <td>12500.0</td>\n",
       "    </tr>\n",
       "    <tr>\n",
       "      <th>10</th>\n",
       "      <td>1733932050-11</td>\n",
       "      <td>Cegléd</td>\n",
       "      <td>Hannoveraner</td>\n",
       "      <td>Stute</td>\n",
       "      <td>5.0</td>\n",
       "      <td>165.0</td>\n",
       "      <td>Dunkelbrauner</td>\n",
       "      <td>12500.0</td>\n",
       "    </tr>\n",
       "    <tr>\n",
       "      <th>11</th>\n",
       "      <td>1733932050-12</td>\n",
       "      <td>Cegléd</td>\n",
       "      <td>Hannoveraner</td>\n",
       "      <td>Stute</td>\n",
       "      <td>4.0</td>\n",
       "      <td>168.0</td>\n",
       "      <td>Rappe</td>\n",
       "      <td>12500.0</td>\n",
       "    </tr>\n",
       "    <tr>\n",
       "      <th>12</th>\n",
       "      <td>1733932050-13</td>\n",
       "      <td>Karlsfeld</td>\n",
       "      <td>Deutsches Sportpferd</td>\n",
       "      <td>Stute</td>\n",
       "      <td>5.0</td>\n",
       "      <td>170.0</td>\n",
       "      <td>Dunkelfuchs</td>\n",
       "      <td>14900.0</td>\n",
       "    </tr>\n",
       "    <tr>\n",
       "      <th>13</th>\n",
       "      <td>1733932050-14</td>\n",
       "      <td>Burgstall</td>\n",
       "      <td>Deutsches Sportpferd</td>\n",
       "      <td>Hengst</td>\n",
       "      <td>1.0</td>\n",
       "      <td>172.0</td>\n",
       "      <td>Brauner</td>\n",
       "      <td>4300.0</td>\n",
       "    </tr>\n",
       "    <tr>\n",
       "      <th>14</th>\n",
       "      <td>1733932050-15</td>\n",
       "      <td>Burgstall</td>\n",
       "      <td>Deutsches Sportpferd</td>\n",
       "      <td>Hengst</td>\n",
       "      <td>1.0</td>\n",
       "      <td>168.0</td>\n",
       "      <td>Brauner</td>\n",
       "      <td>4400.0</td>\n",
       "    </tr>\n",
       "    <tr>\n",
       "      <th>15</th>\n",
       "      <td>1733932050-16</td>\n",
       "      <td>Ehndorf</td>\n",
       "      <td>Islandpferd</td>\n",
       "      <td>Wallach</td>\n",
       "      <td>5.0</td>\n",
       "      <td>137.0</td>\n",
       "      <td>Rappschimmel</td>\n",
       "      <td>12500.0</td>\n",
       "    </tr>\n",
       "    <tr>\n",
       "      <th>16</th>\n",
       "      <td>1733932050-17</td>\n",
       "      <td>München</td>\n",
       "      <td>American Quarter Horse</td>\n",
       "      <td>Hengst</td>\n",
       "      <td>1.0</td>\n",
       "      <td>NaN</td>\n",
       "      <td>NaN</td>\n",
       "      <td>NaN</td>\n",
       "    </tr>\n",
       "    <tr>\n",
       "      <th>17</th>\n",
       "      <td>1733932050-18</td>\n",
       "      <td>München</td>\n",
       "      <td>American Quarter Horse</td>\n",
       "      <td>Stute</td>\n",
       "      <td>2.0</td>\n",
       "      <td>153.0</td>\n",
       "      <td>Brauner</td>\n",
       "      <td>NaN</td>\n",
       "    </tr>\n",
       "    <tr>\n",
       "      <th>18</th>\n",
       "      <td>1733932050-19</td>\n",
       "      <td>München</td>\n",
       "      <td>American Quarter Horse</td>\n",
       "      <td>Hengst</td>\n",
       "      <td>2.0</td>\n",
       "      <td>155.0</td>\n",
       "      <td>Fuchs</td>\n",
       "      <td>NaN</td>\n",
       "    </tr>\n",
       "    <tr>\n",
       "      <th>19</th>\n",
       "      <td>1733932050-20</td>\n",
       "      <td>München</td>\n",
       "      <td>American Quarter Horse</td>\n",
       "      <td>Stute</td>\n",
       "      <td>NaN</td>\n",
       "      <td>NaN</td>\n",
       "      <td>NaN</td>\n",
       "      <td>NaN</td>\n",
       "    </tr>\n",
       "    <tr>\n",
       "      <th>20</th>\n",
       "      <td>1733932608-4441</td>\n",
       "      <td>Rosendahl</td>\n",
       "      <td>Hannoveraner</td>\n",
       "      <td>Stute</td>\n",
       "      <td>3.0</td>\n",
       "      <td>165.0</td>\n",
       "      <td>Rappe</td>\n",
       "      <td>16000.0</td>\n",
       "    </tr>\n",
       "    <tr>\n",
       "      <th>21</th>\n",
       "      <td>1733932910-6861</td>\n",
       "      <td>Wedemark</td>\n",
       "      <td>Oldenburger</td>\n",
       "      <td>Wallach</td>\n",
       "      <td>4.0</td>\n",
       "      <td>175.0</td>\n",
       "      <td>Brauner</td>\n",
       "      <td>10000.0</td>\n",
       "    </tr>\n",
       "  </tbody>\n",
       "</table>\n",
       "</div>"
      ],
      "text/plain": [
       "   web-scraper-order             City_raw                   breed      sex  \\\n",
       "0       1733932050-1  Sint-Martens-Lennik              Holsteiner  Wallach   \n",
       "1       1733932050-2             Meerhout     Belgisches Warmblut    Stute   \n",
       "2       1733932050-3              Pulheim            Hannoveraner   Hengst   \n",
       "3       1733932050-4             Pedralba                     PRE   Hengst   \n",
       "4       1733932050-5              Coruche               Lusitanos   Hengst   \n",
       "5       1733932050-6             Achtmaal         Sonstige Rassen    Stute   \n",
       "6       1733932050-7             Lissabon               Lusitanos   Hengst   \n",
       "7       1733932050-8               Cegléd            Hannoveraner  Wallach   \n",
       "8       1733932050-9               Cegléd    Deutsches Sportpferd  Wallach   \n",
       "9      1733932050-10               Cegléd                    KWPN  Wallach   \n",
       "10     1733932050-11               Cegléd            Hannoveraner    Stute   \n",
       "11     1733932050-12               Cegléd            Hannoveraner    Stute   \n",
       "12     1733932050-13            Karlsfeld    Deutsches Sportpferd    Stute   \n",
       "13     1733932050-14            Burgstall    Deutsches Sportpferd   Hengst   \n",
       "14     1733932050-15            Burgstall    Deutsches Sportpferd   Hengst   \n",
       "15     1733932050-16              Ehndorf             Islandpferd  Wallach   \n",
       "16     1733932050-17              München  American Quarter Horse   Hengst   \n",
       "17     1733932050-18              München  American Quarter Horse    Stute   \n",
       "18     1733932050-19              München  American Quarter Horse   Hengst   \n",
       "19     1733932050-20              München  American Quarter Horse    Stute   \n",
       "20   1733932608-4441            Rosendahl            Hannoveraner    Stute   \n",
       "21   1733932910-6861             Wedemark             Oldenburger  Wallach   \n",
       "\n",
       "     age  height          colour    price  \n",
       "0    7.0   169.0  Schwarzbrauner  55000.0  \n",
       "1    5.0   174.0           Rappe  15000.0  \n",
       "2    4.0   168.0         Brauner  30000.0  \n",
       "3    3.0   165.0   Apfelschimmel   7900.0  \n",
       "4    4.0   161.0        Schimmel  30000.0  \n",
       "5   12.0   163.0           Fuchs   3450.0  \n",
       "6    3.0   168.0         Brauner  30000.0  \n",
       "7    8.0   167.0         Brauner  12500.0  \n",
       "8    8.0   168.0        Schimmel  17500.0  \n",
       "9    6.0   172.0           Rappe  12500.0  \n",
       "10   5.0   165.0   Dunkelbrauner  12500.0  \n",
       "11   4.0   168.0           Rappe  12500.0  \n",
       "12   5.0   170.0     Dunkelfuchs  14900.0  \n",
       "13   1.0   172.0         Brauner   4300.0  \n",
       "14   1.0   168.0         Brauner   4400.0  \n",
       "15   5.0   137.0    Rappschimmel  12500.0  \n",
       "16   1.0     NaN             NaN      NaN  \n",
       "17   2.0   153.0         Brauner      NaN  \n",
       "18   2.0   155.0           Fuchs      NaN  \n",
       "19   NaN     NaN             NaN      NaN  \n",
       "20   3.0   165.0           Rappe  16000.0  \n",
       "21   4.0   175.0         Brauner  10000.0  "
      ]
     },
     "execution_count": 161,
     "metadata": {},
     "output_type": "execute_result"
    }
   ],
   "source": [
    "df = pd.read_csv('./data/eHorses_2_prepared.csv', \n",
    "                 sep=',', \n",
    "                 encoding='utf-8')[['web-scraper-order', 'City_raw', 'breed', 'sex', 'age', 'height', 'colour', 'price']]\n",
    "print(df.shape)\n",
    "df.head(25)"
   ]
  },
  {
   "cell_type": "markdown",
   "metadata": {},
   "source": [
    "## Plot histogramm of horse prices"
   ]
  },
  {
   "cell_type": "code",
   "execution_count": 162,
   "metadata": {},
   "outputs": [
    {
     "data": {
      "image/png": "[encoded data removed]",
      "text/plain": [
       "<Figure size 700x400 with 1 Axes>"
      ]
     },
     "metadata": {},
     "output_type": "display_data"
    }
   ],
   "source": [
    "# Create a histogram\n",
    "plt.figure(figsize=(7,4))\n",
    "df['price'].plot.hist(grid=True, \n",
    "                      bins=20, \n",
    "                      rwidth=0.9,\n",
    "                      color='#607c8e')\n",
    "plt.title('Horse Prices')\n",
    "plt.xlabel('Price')\n",
    "plt.ylabel('Frequency')\n",
    "plt.grid(axis='y', alpha=0.75)\n",
    "plt.show()"
   ]
  },
  {
   "cell_type": "code",
   "execution_count": 163,
   "metadata": {},
   "outputs": [
    {
     "name": "stdout",
     "output_type": "stream",
     "text": [
      "The most expensive horse costs: 55000.0 EUR\n"
     ]
    }
   ],
   "source": [
    "most_expensive_horse = df['price'].max()\n",
    "print(f'The most expensive horse costs: {most_expensive_horse} EUR')"
   ]
  },
  {
   "cell_type": "markdown",
   "metadata": {},
   "source": [
    "### Encoding of categorical variables"
   ]
  },
  {
   "cell_type": "code",
   "execution_count": 164,
   "metadata": {},
   "outputs": [],
   "source": [
    "import pandas as pd\n",
    "from sklearn.ensemble import RandomForestRegressor\n",
    "from sklearn.model_selection import train_test_split\n",
    "from sklearn.preprocessing import LabelEncoder\n",
    "\n",
    "# Encode categorical features\n",
    "label_encoders = {}\n",
    "for column in df.select_dtypes(include=['object']).columns:\n",
    "    le = LabelEncoder()\n",
    "    df[column] = le.fit_transform(df[column])\n",
    "    label_encoders[column] = le"
   ]
  },
  {
   "cell_type": "code",
   "execution_count": 165,
   "metadata": {},
   "outputs": [
    {
     "name": "stdout",
     "output_type": "stream",
     "text": [
      "{np.int64(0): 'Hengst', np.int64(1): 'Stute', np.int64(2): 'Wallach'}\n"
     ]
    }
   ],
   "source": [
    "# Get the label encoder for the 'sex' column\n",
    "le_sex = label_encoders['sex']\n",
    "\n",
    "# Create a mapping of encoded values to original categories\n",
    "sex_mapping = dict(zip(le_sex.transform(le_sex.classes_), le_sex.classes_))\n",
    "\n",
    "# Print the mapping\n",
    "print(sex_mapping)"
   ]
  },
  {
   "cell_type": "markdown",
   "metadata": {},
   "source": [
    "## Random Forest Regression"
   ]
  },
  {
   "cell_type": "markdown",
   "metadata": {},
   "source": [
    "### Create train and test samples for the random forest (train = 80%, test = 20% of the data)"
   ]
  },
  {
   "cell_type": "code",
   "execution_count": 166,
   "metadata": {},
   "outputs": [
    {
     "name": "stdout",
     "output_type": "stream",
     "text": [
      "X2_train:\n",
      "    sex  breed  height   age\n",
      "5     1     10   163.0  12.0\n",
      "20    1      3   165.0   3.0\n",
      "11    1      3   168.0   4.0\n",
      "3     0      9   165.0   3.0\n",
      "4     0      7   161.0   4.0 \n",
      "\n",
      "y2_train:\n",
      "5      3450.0\n",
      "20    16000.0\n",
      "11    12500.0\n",
      "3      7900.0\n",
      "4     30000.0\n",
      "Name: price, dtype: float64\n"
     ]
    }
   ],
   "source": [
    "from sklearn.model_selection import train_test_split\n",
    "\n",
    "# Create train and test samples\n",
    "X2_train, X2_test, y2_train, y2_test = train_test_split(df[['sex', 'breed', 'height', 'age']], \n",
    "                                                        df['price'], \n",
    "                                                        test_size=0.20, \n",
    "                                                        random_state=42)\n",
    "\n",
    "# Show X2_train\n",
    "print('X2_train:')\n",
    "print(X2_train.head(), '\\n')\n",
    "\n",
    "# Show y2_train\n",
    "print('y2_train:')\n",
    "print(y2_train.head())"
   ]
  },
  {
   "cell_type": "markdown",
   "metadata": {},
   "source": [
    "### Fit the Random Forest Regression"
   ]
  },
  {
   "cell_type": "code",
   "execution_count": 167,
   "metadata": {},
   "outputs": [
    {
     "ename": "ValueError",
     "evalue": "Input y contains NaN.",
     "output_type": "error",
     "traceback": [
      "\u001b[0;31m---------------------------------------------------------------------------\u001b[0m",
      "\u001b[0;31mValueError\u001b[0m                                Traceback (most recent call last)",
      "Cell \u001b[0;32mIn[167], line 7\u001b[0m\n\u001b[1;32m      2\u001b[0m reg_rf \u001b[38;5;241m=\u001b[39m RandomForestRegressor(n_estimators\u001b[38;5;241m=\u001b[39m\u001b[38;5;241m500\u001b[39m, \n\u001b[1;32m      3\u001b[0m                                max_depth\u001b[38;5;241m=\u001b[39m\u001b[38;5;241m10\u001b[39m, \n\u001b[1;32m      4\u001b[0m                                random_state\u001b[38;5;241m=\u001b[39m\u001b[38;5;241m5\u001b[39m)\n\u001b[1;32m      6\u001b[0m \u001b[38;5;66;03m# Fit the model\u001b[39;00m\n\u001b[0;32m----> 7\u001b[0m \u001b[43mreg_rf\u001b[49m\u001b[38;5;241;43m.\u001b[39;49m\u001b[43mfit\u001b[49m\u001b[43m(\u001b[49m\u001b[43mX2_train\u001b[49m\u001b[43m,\u001b[49m\u001b[43m \u001b[49m\u001b[43my2_train\u001b[49m\u001b[43m)\u001b[49m\n\u001b[1;32m      9\u001b[0m \u001b[38;5;66;03m# Calculate coefficient of determination (R-squared)\u001b[39;00m\n\u001b[1;32m     10\u001b[0m r_squared \u001b[38;5;241m=\u001b[39m reg_rf\u001b[38;5;241m.\u001b[39mscore(X2_test, y2_test)\n",
      "File \u001b[0;32m~/.local/lib/python3.11/site-packages/sklearn/base.py:1473\u001b[0m, in \u001b[0;36m_fit_context.<locals>.decorator.<locals>.wrapper\u001b[0;34m(estimator, *args, **kwargs)\u001b[0m\n\u001b[1;32m   1466\u001b[0m     estimator\u001b[38;5;241m.\u001b[39m_validate_params()\n\u001b[1;32m   1468\u001b[0m \u001b[38;5;28;01mwith\u001b[39;00m config_context(\n\u001b[1;32m   1469\u001b[0m     skip_parameter_validation\u001b[38;5;241m=\u001b[39m(\n\u001b[1;32m   1470\u001b[0m         prefer_skip_nested_validation \u001b[38;5;129;01mor\u001b[39;00m global_skip_validation\n\u001b[1;32m   1471\u001b[0m     )\n\u001b[1;32m   1472\u001b[0m ):\n\u001b[0;32m-> 1473\u001b[0m     \u001b[38;5;28;01mreturn\u001b[39;00m \u001b[43mfit_method\u001b[49m\u001b[43m(\u001b[49m\u001b[43mestimator\u001b[49m\u001b[43m,\u001b[49m\u001b[43m \u001b[49m\u001b[38;5;241;43m*\u001b[39;49m\u001b[43margs\u001b[49m\u001b[43m,\u001b[49m\u001b[43m \u001b[49m\u001b[38;5;241;43m*\u001b[39;49m\u001b[38;5;241;43m*\u001b[39;49m\u001b[43mkwargs\u001b[49m\u001b[43m)\u001b[49m\n",
      "File \u001b[0;32m~/.local/lib/python3.11/site-packages/sklearn/ensemble/_forest.py:363\u001b[0m, in \u001b[0;36mBaseForest.fit\u001b[0;34m(self, X, y, sample_weight)\u001b[0m\n\u001b[1;32m    360\u001b[0m \u001b[38;5;28;01mif\u001b[39;00m issparse(y):\n\u001b[1;32m    361\u001b[0m     \u001b[38;5;28;01mraise\u001b[39;00m \u001b[38;5;167;01mValueError\u001b[39;00m(\u001b[38;5;124m\"\u001b[39m\u001b[38;5;124msparse multilabel-indicator for y is not supported.\u001b[39m\u001b[38;5;124m\"\u001b[39m)\n\u001b[0;32m--> 363\u001b[0m X, y \u001b[38;5;241m=\u001b[39m \u001b[38;5;28;43mself\u001b[39;49m\u001b[38;5;241;43m.\u001b[39;49m\u001b[43m_validate_data\u001b[49m\u001b[43m(\u001b[49m\n\u001b[1;32m    364\u001b[0m \u001b[43m    \u001b[49m\u001b[43mX\u001b[49m\u001b[43m,\u001b[49m\n\u001b[1;32m    365\u001b[0m \u001b[43m    \u001b[49m\u001b[43my\u001b[49m\u001b[43m,\u001b[49m\n\u001b[1;32m    366\u001b[0m \u001b[43m    \u001b[49m\u001b[43mmulti_output\u001b[49m\u001b[38;5;241;43m=\u001b[39;49m\u001b[38;5;28;43;01mTrue\u001b[39;49;00m\u001b[43m,\u001b[49m\n\u001b[1;32m    367\u001b[0m \u001b[43m    \u001b[49m\u001b[43maccept_sparse\u001b[49m\u001b[38;5;241;43m=\u001b[39;49m\u001b[38;5;124;43m\"\u001b[39;49m\u001b[38;5;124;43mcsc\u001b[39;49m\u001b[38;5;124;43m\"\u001b[39;49m\u001b[43m,\u001b[49m\n\u001b[1;32m    368\u001b[0m \u001b[43m    \u001b[49m\u001b[43mdtype\u001b[49m\u001b[38;5;241;43m=\u001b[39;49m\u001b[43mDTYPE\u001b[49m\u001b[43m,\u001b[49m\n\u001b[1;32m    369\u001b[0m \u001b[43m    \u001b[49m\u001b[43mforce_all_finite\u001b[49m\u001b[38;5;241;43m=\u001b[39;49m\u001b[38;5;28;43;01mFalse\u001b[39;49;00m\u001b[43m,\u001b[49m\n\u001b[1;32m    370\u001b[0m \u001b[43m\u001b[49m\u001b[43m)\u001b[49m\n\u001b[1;32m    371\u001b[0m \u001b[38;5;66;03m# _compute_missing_values_in_feature_mask checks if X has missing values and\u001b[39;00m\n\u001b[1;32m    372\u001b[0m \u001b[38;5;66;03m# will raise an error if the underlying tree base estimator can't handle missing\u001b[39;00m\n\u001b[1;32m    373\u001b[0m \u001b[38;5;66;03m# values. Only the criterion is required to determine if the tree supports\u001b[39;00m\n\u001b[1;32m    374\u001b[0m \u001b[38;5;66;03m# missing values.\u001b[39;00m\n\u001b[1;32m    375\u001b[0m estimator \u001b[38;5;241m=\u001b[39m \u001b[38;5;28mtype\u001b[39m(\u001b[38;5;28mself\u001b[39m\u001b[38;5;241m.\u001b[39mestimator)(criterion\u001b[38;5;241m=\u001b[39m\u001b[38;5;28mself\u001b[39m\u001b[38;5;241m.\u001b[39mcriterion)\n",
      "File \u001b[0;32m~/.local/lib/python3.11/site-packages/sklearn/base.py:650\u001b[0m, in \u001b[0;36mBaseEstimator._validate_data\u001b[0;34m(self, X, y, reset, validate_separately, cast_to_ndarray, **check_params)\u001b[0m\n\u001b[1;32m    648\u001b[0m         y \u001b[38;5;241m=\u001b[39m check_array(y, input_name\u001b[38;5;241m=\u001b[39m\u001b[38;5;124m\"\u001b[39m\u001b[38;5;124my\u001b[39m\u001b[38;5;124m\"\u001b[39m, \u001b[38;5;241m*\u001b[39m\u001b[38;5;241m*\u001b[39mcheck_y_params)\n\u001b[1;32m    649\u001b[0m     \u001b[38;5;28;01melse\u001b[39;00m:\n\u001b[0;32m--> 650\u001b[0m         X, y \u001b[38;5;241m=\u001b[39m \u001b[43mcheck_X_y\u001b[49m\u001b[43m(\u001b[49m\u001b[43mX\u001b[49m\u001b[43m,\u001b[49m\u001b[43m \u001b[49m\u001b[43my\u001b[49m\u001b[43m,\u001b[49m\u001b[43m \u001b[49m\u001b[38;5;241;43m*\u001b[39;49m\u001b[38;5;241;43m*\u001b[39;49m\u001b[43mcheck_params\u001b[49m\u001b[43m)\u001b[49m\n\u001b[1;32m    651\u001b[0m     out \u001b[38;5;241m=\u001b[39m X, y\n\u001b[1;32m    653\u001b[0m \u001b[38;5;28;01mif\u001b[39;00m \u001b[38;5;129;01mnot\u001b[39;00m no_val_X \u001b[38;5;129;01mand\u001b[39;00m check_params\u001b[38;5;241m.\u001b[39mget(\u001b[38;5;124m\"\u001b[39m\u001b[38;5;124mensure_2d\u001b[39m\u001b[38;5;124m\"\u001b[39m, \u001b[38;5;28;01mTrue\u001b[39;00m):\n",
      "File \u001b[0;32m~/.local/lib/python3.11/site-packages/sklearn/utils/validation.py:1318\u001b[0m, in \u001b[0;36mcheck_X_y\u001b[0;34m(X, y, accept_sparse, accept_large_sparse, dtype, order, copy, force_writeable, force_all_finite, ensure_2d, allow_nd, multi_output, ensure_min_samples, ensure_min_features, y_numeric, estimator)\u001b[0m\n\u001b[1;32m   1297\u001b[0m     \u001b[38;5;28;01mraise\u001b[39;00m \u001b[38;5;167;01mValueError\u001b[39;00m(\n\u001b[1;32m   1298\u001b[0m         \u001b[38;5;124mf\u001b[39m\u001b[38;5;124m\"\u001b[39m\u001b[38;5;132;01m{\u001b[39;00mestimator_name\u001b[38;5;132;01m}\u001b[39;00m\u001b[38;5;124m requires y to be passed, but the target y is None\u001b[39m\u001b[38;5;124m\"\u001b[39m\n\u001b[1;32m   1299\u001b[0m     )\n\u001b[1;32m   1301\u001b[0m X \u001b[38;5;241m=\u001b[39m check_array(\n\u001b[1;32m   1302\u001b[0m     X,\n\u001b[1;32m   1303\u001b[0m     accept_sparse\u001b[38;5;241m=\u001b[39maccept_sparse,\n\u001b[0;32m   (...)\u001b[0m\n\u001b[1;32m   1315\u001b[0m     input_name\u001b[38;5;241m=\u001b[39m\u001b[38;5;124m\"\u001b[39m\u001b[38;5;124mX\u001b[39m\u001b[38;5;124m\"\u001b[39m,\n\u001b[1;32m   1316\u001b[0m )\n\u001b[0;32m-> 1318\u001b[0m y \u001b[38;5;241m=\u001b[39m \u001b[43m_check_y\u001b[49m\u001b[43m(\u001b[49m\u001b[43my\u001b[49m\u001b[43m,\u001b[49m\u001b[43m \u001b[49m\u001b[43mmulti_output\u001b[49m\u001b[38;5;241;43m=\u001b[39;49m\u001b[43mmulti_output\u001b[49m\u001b[43m,\u001b[49m\u001b[43m \u001b[49m\u001b[43my_numeric\u001b[49m\u001b[38;5;241;43m=\u001b[39;49m\u001b[43my_numeric\u001b[49m\u001b[43m,\u001b[49m\u001b[43m \u001b[49m\u001b[43mestimator\u001b[49m\u001b[38;5;241;43m=\u001b[39;49m\u001b[43mestimator\u001b[49m\u001b[43m)\u001b[49m\n\u001b[1;32m   1320\u001b[0m check_consistent_length(X, y)\n\u001b[1;32m   1322\u001b[0m \u001b[38;5;28;01mreturn\u001b[39;00m X, y\n",
      "File \u001b[0;32m~/.local/lib/python3.11/site-packages/sklearn/utils/validation.py:1328\u001b[0m, in \u001b[0;36m_check_y\u001b[0;34m(y, multi_output, y_numeric, estimator)\u001b[0m\n\u001b[1;32m   1326\u001b[0m \u001b[38;5;250m\u001b[39m\u001b[38;5;124;03m\"\"\"Isolated part of check_X_y dedicated to y validation\"\"\"\u001b[39;00m\n\u001b[1;32m   1327\u001b[0m \u001b[38;5;28;01mif\u001b[39;00m multi_output:\n\u001b[0;32m-> 1328\u001b[0m     y \u001b[38;5;241m=\u001b[39m \u001b[43mcheck_array\u001b[49m\u001b[43m(\u001b[49m\n\u001b[1;32m   1329\u001b[0m \u001b[43m        \u001b[49m\u001b[43my\u001b[49m\u001b[43m,\u001b[49m\n\u001b[1;32m   1330\u001b[0m \u001b[43m        \u001b[49m\u001b[43maccept_sparse\u001b[49m\u001b[38;5;241;43m=\u001b[39;49m\u001b[38;5;124;43m\"\u001b[39;49m\u001b[38;5;124;43mcsr\u001b[39;49m\u001b[38;5;124;43m\"\u001b[39;49m\u001b[43m,\u001b[49m\n\u001b[1;32m   1331\u001b[0m \u001b[43m        \u001b[49m\u001b[43mforce_all_finite\u001b[49m\u001b[38;5;241;43m=\u001b[39;49m\u001b[38;5;28;43;01mTrue\u001b[39;49;00m\u001b[43m,\u001b[49m\n\u001b[1;32m   1332\u001b[0m \u001b[43m        \u001b[49m\u001b[43mensure_2d\u001b[49m\u001b[38;5;241;43m=\u001b[39;49m\u001b[38;5;28;43;01mFalse\u001b[39;49;00m\u001b[43m,\u001b[49m\n\u001b[1;32m   1333\u001b[0m \u001b[43m        \u001b[49m\u001b[43mdtype\u001b[49m\u001b[38;5;241;43m=\u001b[39;49m\u001b[38;5;28;43;01mNone\u001b[39;49;00m\u001b[43m,\u001b[49m\n\u001b[1;32m   1334\u001b[0m \u001b[43m        \u001b[49m\u001b[43minput_name\u001b[49m\u001b[38;5;241;43m=\u001b[39;49m\u001b[38;5;124;43m\"\u001b[39;49m\u001b[38;5;124;43my\u001b[39;49m\u001b[38;5;124;43m\"\u001b[39;49m\u001b[43m,\u001b[49m\n\u001b[1;32m   1335\u001b[0m \u001b[43m        \u001b[49m\u001b[43mestimator\u001b[49m\u001b[38;5;241;43m=\u001b[39;49m\u001b[43mestimator\u001b[49m\u001b[43m,\u001b[49m\n\u001b[1;32m   1336\u001b[0m \u001b[43m    \u001b[49m\u001b[43m)\u001b[49m\n\u001b[1;32m   1337\u001b[0m \u001b[38;5;28;01melse\u001b[39;00m:\n\u001b[1;32m   1338\u001b[0m     estimator_name \u001b[38;5;241m=\u001b[39m _check_estimator_name(estimator)\n",
      "File \u001b[0;32m~/.local/lib/python3.11/site-packages/sklearn/utils/validation.py:1064\u001b[0m, in \u001b[0;36mcheck_array\u001b[0;34m(array, accept_sparse, accept_large_sparse, dtype, order, copy, force_writeable, force_all_finite, ensure_2d, allow_nd, ensure_min_samples, ensure_min_features, estimator, input_name)\u001b[0m\n\u001b[1;32m   1058\u001b[0m     \u001b[38;5;28;01mraise\u001b[39;00m \u001b[38;5;167;01mValueError\u001b[39;00m(\n\u001b[1;32m   1059\u001b[0m         \u001b[38;5;124m\"\u001b[39m\u001b[38;5;124mFound array with dim \u001b[39m\u001b[38;5;132;01m%d\u001b[39;00m\u001b[38;5;124m. \u001b[39m\u001b[38;5;132;01m%s\u001b[39;00m\u001b[38;5;124m expected <= 2.\u001b[39m\u001b[38;5;124m\"\u001b[39m\n\u001b[1;32m   1060\u001b[0m         \u001b[38;5;241m%\u001b[39m (array\u001b[38;5;241m.\u001b[39mndim, estimator_name)\n\u001b[1;32m   1061\u001b[0m     )\n\u001b[1;32m   1063\u001b[0m \u001b[38;5;28;01mif\u001b[39;00m force_all_finite:\n\u001b[0;32m-> 1064\u001b[0m     \u001b[43m_assert_all_finite\u001b[49m\u001b[43m(\u001b[49m\n\u001b[1;32m   1065\u001b[0m \u001b[43m        \u001b[49m\u001b[43marray\u001b[49m\u001b[43m,\u001b[49m\n\u001b[1;32m   1066\u001b[0m \u001b[43m        \u001b[49m\u001b[43minput_name\u001b[49m\u001b[38;5;241;43m=\u001b[39;49m\u001b[43minput_name\u001b[49m\u001b[43m,\u001b[49m\n\u001b[1;32m   1067\u001b[0m \u001b[43m        \u001b[49m\u001b[43mestimator_name\u001b[49m\u001b[38;5;241;43m=\u001b[39;49m\u001b[43mestimator_name\u001b[49m\u001b[43m,\u001b[49m\n\u001b[1;32m   1068\u001b[0m \u001b[43m        \u001b[49m\u001b[43mallow_nan\u001b[49m\u001b[38;5;241;43m=\u001b[39;49m\u001b[43mforce_all_finite\u001b[49m\u001b[43m \u001b[49m\u001b[38;5;241;43m==\u001b[39;49m\u001b[43m \u001b[49m\u001b[38;5;124;43m\"\u001b[39;49m\u001b[38;5;124;43mallow-nan\u001b[39;49m\u001b[38;5;124;43m\"\u001b[39;49m\u001b[43m,\u001b[49m\n\u001b[1;32m   1069\u001b[0m \u001b[43m    \u001b[49m\u001b[43m)\u001b[49m\n\u001b[1;32m   1071\u001b[0m \u001b[38;5;28;01mif\u001b[39;00m copy:\n\u001b[1;32m   1072\u001b[0m     \u001b[38;5;28;01mif\u001b[39;00m _is_numpy_namespace(xp):\n\u001b[1;32m   1073\u001b[0m         \u001b[38;5;66;03m# only make a copy if `array` and `array_orig` may share memory`\u001b[39;00m\n",
      "File \u001b[0;32m~/.local/lib/python3.11/site-packages/sklearn/utils/validation.py:123\u001b[0m, in \u001b[0;36m_assert_all_finite\u001b[0;34m(X, allow_nan, msg_dtype, estimator_name, input_name)\u001b[0m\n\u001b[1;32m    120\u001b[0m \u001b[38;5;28;01mif\u001b[39;00m first_pass_isfinite:\n\u001b[1;32m    121\u001b[0m     \u001b[38;5;28;01mreturn\u001b[39;00m\n\u001b[0;32m--> 123\u001b[0m \u001b[43m_assert_all_finite_element_wise\u001b[49m\u001b[43m(\u001b[49m\n\u001b[1;32m    124\u001b[0m \u001b[43m    \u001b[49m\u001b[43mX\u001b[49m\u001b[43m,\u001b[49m\n\u001b[1;32m    125\u001b[0m \u001b[43m    \u001b[49m\u001b[43mxp\u001b[49m\u001b[38;5;241;43m=\u001b[39;49m\u001b[43mxp\u001b[49m\u001b[43m,\u001b[49m\n\u001b[1;32m    126\u001b[0m \u001b[43m    \u001b[49m\u001b[43mallow_nan\u001b[49m\u001b[38;5;241;43m=\u001b[39;49m\u001b[43mallow_nan\u001b[49m\u001b[43m,\u001b[49m\n\u001b[1;32m    127\u001b[0m \u001b[43m    \u001b[49m\u001b[43mmsg_dtype\u001b[49m\u001b[38;5;241;43m=\u001b[39;49m\u001b[43mmsg_dtype\u001b[49m\u001b[43m,\u001b[49m\n\u001b[1;32m    128\u001b[0m \u001b[43m    \u001b[49m\u001b[43mestimator_name\u001b[49m\u001b[38;5;241;43m=\u001b[39;49m\u001b[43mestimator_name\u001b[49m\u001b[43m,\u001b[49m\n\u001b[1;32m    129\u001b[0m \u001b[43m    \u001b[49m\u001b[43minput_name\u001b[49m\u001b[38;5;241;43m=\u001b[39;49m\u001b[43minput_name\u001b[49m\u001b[43m,\u001b[49m\n\u001b[1;32m    130\u001b[0m \u001b[43m\u001b[49m\u001b[43m)\u001b[49m\n",
      "File \u001b[0;32m~/.local/lib/python3.11/site-packages/sklearn/utils/validation.py:172\u001b[0m, in \u001b[0;36m_assert_all_finite_element_wise\u001b[0;34m(X, xp, allow_nan, msg_dtype, estimator_name, input_name)\u001b[0m\n\u001b[1;32m    155\u001b[0m \u001b[38;5;28;01mif\u001b[39;00m estimator_name \u001b[38;5;129;01mand\u001b[39;00m input_name \u001b[38;5;241m==\u001b[39m \u001b[38;5;124m\"\u001b[39m\u001b[38;5;124mX\u001b[39m\u001b[38;5;124m\"\u001b[39m \u001b[38;5;129;01mand\u001b[39;00m has_nan_error:\n\u001b[1;32m    156\u001b[0m     \u001b[38;5;66;03m# Improve the error message on how to handle missing values in\u001b[39;00m\n\u001b[1;32m    157\u001b[0m     \u001b[38;5;66;03m# scikit-learn.\u001b[39;00m\n\u001b[1;32m    158\u001b[0m     msg_err \u001b[38;5;241m+\u001b[39m\u001b[38;5;241m=\u001b[39m (\n\u001b[1;32m    159\u001b[0m         \u001b[38;5;124mf\u001b[39m\u001b[38;5;124m\"\u001b[39m\u001b[38;5;130;01m\\n\u001b[39;00m\u001b[38;5;132;01m{\u001b[39;00mestimator_name\u001b[38;5;132;01m}\u001b[39;00m\u001b[38;5;124m does not accept missing values\u001b[39m\u001b[38;5;124m\"\u001b[39m\n\u001b[1;32m    160\u001b[0m         \u001b[38;5;124m\"\u001b[39m\u001b[38;5;124m encoded as NaN natively. For supervised learning, you might want\u001b[39m\u001b[38;5;124m\"\u001b[39m\n\u001b[0;32m   (...)\u001b[0m\n\u001b[1;32m    170\u001b[0m         \u001b[38;5;124m\"\u001b[39m\u001b[38;5;124m#estimators-that-handle-nan-values\u001b[39m\u001b[38;5;124m\"\u001b[39m\n\u001b[1;32m    171\u001b[0m     )\n\u001b[0;32m--> 172\u001b[0m \u001b[38;5;28;01mraise\u001b[39;00m \u001b[38;5;167;01mValueError\u001b[39;00m(msg_err)\n",
      "\u001b[0;31mValueError\u001b[0m: Input y contains NaN."
     ]
    }
   ],
   "source": [
    "# Initialize the Random Forest Regressor\n",
    "reg_rf = RandomForestRegressor(n_estimators=500, \n",
    "                               max_depth=10, \n",
    "                               random_state=5)\n",
    "\n",
    "# Fit the model\n",
    "reg_rf.fit(X2_train, y2_train)\n",
    "\n",
    "# Calculate coefficient of determination (R-squared)\n",
    "r_squared = reg_rf.score(X2_test, y2_test)\n",
    "print('R-squared:', round(r_squared, 4))"
   ]
  },
  {
   "cell_type": "markdown",
   "metadata": {},
   "source": [
    "### Show feature importance"
   ]
  },
  {
   "cell_type": "code",
   "execution_count": 117,
   "metadata": {},
   "outputs": [
    {
     "name": "stdout",
     "output_type": "stream",
     "text": [
      "Index(['sex', 'age', 'breed', 'height'], dtype='object')\n",
      "[0.59669373 0.37577157 0.02522102 0.00231368]\n"
     ]
    },
    {
     "data": {
      "image/png": "[encoded data removed]",
      "text/plain": [
       "<Figure size 600x300 with 1 Axes>"
      ]
     },
     "metadata": {},
     "output_type": "display_data"
    }
   ],
   "source": [
    "# Derive feature importance from random forest\n",
    "cols = X2_train.columns\n",
    "importances = reg_rf.feature_importances_\n",
    "std = np.std([tree.feature_importances_ for tree in reg_rf.estimators_], axis=0)\n",
    "indices = np.argsort(importances)[::-1]\n",
    "\n",
    "# Print col-names and importances-values\n",
    "print(cols[indices])\n",
    "print(importances[indices])\n",
    "\n",
    "# Barplot with feature importance\n",
    "df_fi = pd.DataFrame({'features': cols, 'importances': importances})\n",
    "df_fi.sort_values('importances', inplace=True)\n",
    "df_fi.plot(kind='barh', \n",
    "           y='importances', \n",
    "           x='features', \n",
    "           color='darkred', \n",
    "           figsize=(6, 3))\n",
    "\n",
    "plt.show()"
   ]
  },
  {
   "cell_type": "markdown",
   "metadata": {},
   "source": [
    "### Fit the multiple regression model (yes, the output is rich :-), but we need only part of it for interpretation!)"
   ]
  },
  {
   "cell_type": "code",
   "execution_count": 118,
   "metadata": {},
   "outputs": [
    {
     "name": "stdout",
     "output_type": "stream",
     "text": [
      "                            OLS Regression Results                            \n",
      "==============================================================================\n",
      "Dep. Variable:                  price   R-squared:                       0.814\n",
      "Model:                            OLS   Adj. R-squared:                  0.814\n",
      "Method:                 Least Squares   F-statistic:                     4565.\n",
      "Date:                Fri, 13 Dec 2024   Prob (F-statistic):               0.00\n",
      "Time:                        15:14:23   Log-Likelihood:                -39989.\n",
      "No. Observations:                4186   AIC:                         7.999e+04\n",
      "Df Residuals:                    4181   BIC:                         8.002e+04\n",
      "Df Model:                           4                                         \n",
      "Covariance Type:            nonrobust                                         \n",
      "==============================================================================\n",
      "                 coef    std err          t      P>|t|      [0.025      0.975]\n",
      "------------------------------------------------------------------------------\n",
      "const       4.147e+04   1075.048     38.578      0.000    3.94e+04    4.36e+04\n",
      "sex        -1.471e+04    127.450   -115.420      0.000    -1.5e+04   -1.45e+04\n",
      "breed       3228.5080     40.145     80.421      0.000    3149.803    3307.213\n",
      "height      -234.5755      6.468    -36.265      0.000    -247.257    -221.894\n",
      "age         5193.0546     46.284    112.200      0.000    5102.313    5283.796\n",
      "==============================================================================\n",
      "Omnibus:                      136.080   Durbin-Watson:                   1.995\n",
      "Prob(Omnibus):                  0.000   Jarque-Bera (JB):              149.212\n",
      "Skew:                           0.447   Prob(JB):                     3.97e-33\n",
      "Kurtosis:                       3.239   Cond. No.                     3.39e+03\n",
      "==============================================================================\n",
      "\n",
      "Notes:\n",
      "[1] Standard Errors assume that the covariance matrix of the errors is correctly specified.\n",
      "[2] The condition number is large, 3.39e+03. This might indicate that there are\n",
      "strong multicollinearity or other numerical problems.\n"
     ]
    }
   ],
   "source": [
    "import statsmodels.api as sm\n",
    "\n",
    "# Add constant to the model\n",
    "X2_train_const = sm.add_constant(X2_train)\n",
    "\n",
    "# Create the multiple regression model\n",
    "olsmod = sm.OLS(y2_train, X2_train_const)\n",
    "olsres = olsmod.fit()\n",
    "\n",
    "# Print full model output\n",
    "print(olsres.summary())"
   ]
  },
  {
   "cell_type": "markdown",
   "metadata": {},
   "source": [
    "### Plot regression line"
   ]
  },
  {
   "cell_type": "code",
   "execution_count": 119,
   "metadata": {},
   "outputs": [
    {
     "data": {
      "image/png": "[encoded data removed]",
      "text/plain": [
       "<Figure size 800x600 with 1 Axes>"
      ]
     },
     "metadata": {},
     "output_type": "display_data"
    }
   ],
   "source": [
    "# Scatter plot for price as it changes according to age\n",
    "plt.figure(figsize=(8, 6))\n",
    "plt.scatter(df['age'], df['price'], alpha=0.5, color='blue')\n",
    "plt.title('Scatter Plot of Price vs Age')\n",
    "plt.xlabel('Age (years)')\n",
    "plt.ylabel('Price (EUR)')\n",
    "plt.grid(True)\n",
    "plt.show()"
   ]
  },
  {
   "cell_type": "code",
   "execution_count": 120,
   "metadata": {},
   "outputs": [
    {
     "data": {
      "image/png": "[encoded data removed]",
      "text/plain": [
       "<Figure size 600x400 with 1 Axes>"
      ]
     },
     "metadata": {},
     "output_type": "display_data"
    }
   ],
   "source": [
    "# Function to calculate model predictions\n",
    "def myfunc(x):\n",
    "    return olsres.params['const'] + olsres.params['age'] * x\n",
    "\n",
    "# Apply myfunc() to age, i.e. make predictions \n",
    "mymodel = pd.Series(map(myfunc, X2_train['age']))\n",
    "\n",
    "# Scatterplot with regression line\n",
    "plt.figure(figsize=(6,4))\n",
    "plt.scatter(X2_train['age'], y2_train, s=10, color='green')\n",
    "plt.plot(X2_train['age'], mymodel, color='darkred', linestyle='dashed')\n",
    "plt.title('Simple Linear Regression for Price and Age')\n",
    "plt.xlabel('Age (years)')\n",
    "plt.ylabel('Price (EUR)')\n",
    "\n",
    "# Add regression equation\n",
    "plt.text(1, \n",
    "         15000, \n",
    "         f\"y = {olsres.params['const']:.2f} + {olsres.params['age']:.2f}x\", \n",
    "         color='black', \n",
    "         fontsize=10)\n",
    "\n",
    "plt.show()"
   ]
  },
  {
   "cell_type": "markdown",
   "metadata": {},
   "source": [
    "### Check model residuals (residuals = observed prices minus predicted prices)"
   ]
  },
  {
   "cell_type": "code",
   "execution_count": 121,
   "metadata": {},
   "outputs": [
    {
     "name": "stdout",
     "output_type": "stream",
     "text": [
      "1st Predicted price in dataset: 12500.00\n",
      "1st Observed price in dataset: 12500.00\n",
      "1st Residual price in dataset: 0.00\n"
     ]
    }
   ],
   "source": [
    "# Predict the prices for the train data\n",
    "y2_train_pred = reg_rf.predict(X2_train)\n",
    "\n",
    "# Calculate model residuals for train data\n",
    "residuals = y2_train - y2_train_pred\n",
    "\n",
    "# Check the first residual value in our data set\n",
    "print(f'1st Predicted price in dataset: {y2_train_pred[0]:.2f}')\n",
    "print(f'1st Observed price in dataset: {y2_train.iloc[0]:.2f}')\n",
    "print(f'1st Residual price in dataset: {residuals.iloc[0]:.2f}')"
   ]
  },
  {
   "cell_type": "markdown",
   "metadata": {},
   "source": [
    "### Plot histogram of residuals"
   ]
  },
  {
   "cell_type": "code",
   "execution_count": 122,
   "metadata": {},
   "outputs": [
    {
     "data": {
      "image/png": "[encoded data removed]",
      "text/plain": [
       "<Figure size 800x400 with 1 Axes>"
      ]
     },
     "metadata": {},
     "output_type": "display_data"
    }
   ],
   "source": [
    "# Plot histogram of residuals\n",
    "fig = plt.figure(figsize=(8, 4))\n",
    "n, bins, patches = plt.hist(x=olsres.resid, \n",
    "                            bins=25, \n",
    "                            color='blue', \n",
    "                            alpha=0.5)\n",
    "\n",
    "# Set labels\n",
    "plt.xlabel('residuals', fontsize=10, labelpad=10)\n",
    "plt.ylabel('frequency', fontsize=10, labelpad=10)\n",
    "plt.title('Histogram of model residuals', fontsize=12, pad=10)\n",
    "plt.grid()\n",
    "plt.show()"
   ]
  }
 ],
 "metadata": {
  "kernelspec": {
   "display_name": "Python 3",
   "language": "python",
   "name": "python3"
  },
  "language_info": {
   "codemirror_mode": {
    "name": "ipython",
    "version": 3
   },
   "file_extension": ".py",
   "mimetype": "text/x-python",
   "name": "python",
   "nbconvert_exporter": "python",
   "pygments_lexer": "ipython3",
   "version": "3.11.10"
  }
 },
 "nbformat": 4,
 "nbformat_minor": 2
}
